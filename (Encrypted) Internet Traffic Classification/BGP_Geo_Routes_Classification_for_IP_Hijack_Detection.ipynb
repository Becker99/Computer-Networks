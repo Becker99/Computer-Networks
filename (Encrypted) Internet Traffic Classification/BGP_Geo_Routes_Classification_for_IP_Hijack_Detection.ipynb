{
  "nbformat": 4,
  "nbformat_minor": 0,
  "metadata": {
    "colab": {
      "provenance": []
    },
    "kernelspec": {
      "name": "python3",
      "display_name": "Python 3"
    },
    "language_info": {
      "name": "python"
    }
  },
  "cells": [
    {
      "cell_type": "markdown",
      "source": [
        "Note: We are using a reduced version of the original dataset of the project **\"SASA: Source-Aware Self-Attention for IP Hijack Detection\"** since we have limited RAM on the free version of Google Colab.\n",
        "\n",
        "The Link to **our** reduced dataset and **prediction.csv**: https://drive.google.com/drive/folders/1_4hCksTHyGqHd8G8gPyBJvCb9IQHqV-h?usp=sharing\n",
        "\n",
        "Before you start, you have to download the datasets and change the path to the files in the code."
      ],
      "metadata": {
        "id": "lplnV97QeA_Z"
      }
    },
    {
      "cell_type": "code",
      "source": [
        "!git clone https://github.com/Becker99/Computer-Networks.git"
      ],
      "metadata": {
        "colab": {
          "base_uri": "https://localhost:8080/"
        },
        "id": "jxnEADlDfSZv",
        "outputId": "086766b3-2b0d-4b15-c367-65a514a5d1b7"
      },
      "execution_count": null,
      "outputs": [
        {
          "output_type": "stream",
          "name": "stdout",
          "text": [
            "Cloning into 'Computer-Networks'...\n",
            "remote: Enumerating objects: 131, done.\u001b[K\n",
            "remote: Counting objects: 100% (34/34), done.\u001b[K\n",
            "remote: Compressing objects: 100% (28/28), done.\u001b[K\n",
            "remote: Total 131 (delta 10), reused 3 (delta 3), pack-reused 97\u001b[K\n",
            "Receiving objects: 100% (131/131), 13.87 MiB | 25.22 MiB/s, done.\n",
            "Resolving deltas: 100% (20/20), done.\n"
          ]
        }
      ]
    },
    {
      "cell_type": "code",
      "source": [
        "import os\n",
        "\n",
        "# Define the desired directory path\n",
        "new_directory = '/content/Computer-Networks/BGP/Geo Routes Classification for IP Hijack Detection'\n",
        "\n",
        "# Change the current working directory\n",
        "os.chdir(new_directory)"
      ],
      "metadata": {
        "id": "u-k_cZtLgMZo"
      },
      "execution_count": 7,
      "outputs": []
    },
    {
      "cell_type": "code",
      "source": [
        "!pip install -r requirements.txt"
      ],
      "metadata": {
        "colab": {
          "base_uri": "https://localhost:8080/"
        },
        "id": "TWwZePiwf-BT",
        "outputId": "fe8e3279-e56c-4d05-dd64-f16d8252c49b"
      },
      "execution_count": 8,
      "outputs": [
        {
          "output_type": "stream",
          "name": "stdout",
          "text": [
            "Collecting pandas==1.3.3 (from -r requirements.txt (line 1))\n",
            "  Downloading pandas-1.3.3-cp310-cp310-manylinux_2_17_x86_64.manylinux2014_x86_64.whl (11.5 MB)\n",
            "\u001b[2K     \u001b[90m━━━━━━━━━━━━━━━━━━━━━━━━━━━━━━━━━━━━━━━━\u001b[0m \u001b[32m11.5/11.5 MB\u001b[0m \u001b[31m44.1 MB/s\u001b[0m eta \u001b[36m0:00:00\u001b[0m\n",
            "\u001b[?25hCollecting seaborn==0.11.2 (from -r requirements.txt (line 2))\n",
            "  Downloading seaborn-0.11.2-py3-none-any.whl (292 kB)\n",
            "\u001b[2K     \u001b[90m━━━━━━━━━━━━━━━━━━━━━━━━━━━━━━━━━━━━━━━━\u001b[0m \u001b[32m292.8/292.8 kB\u001b[0m \u001b[31m34.2 MB/s\u001b[0m eta \u001b[36m0:00:00\u001b[0m\n",
            "\u001b[?25hCollecting matplotlib==3.4.3 (from -r requirements.txt (line 3))\n",
            "  Downloading matplotlib-3.4.3.tar.gz (37.9 MB)\n",
            "\u001b[2K     \u001b[90m━━━━━━━━━━━━━━━━━━━━━━━━━━━━━━━━━━━━━━━━\u001b[0m \u001b[32m37.9/37.9 MB\u001b[0m \u001b[31m31.9 MB/s\u001b[0m eta \u001b[36m0:00:00\u001b[0m\n",
            "\u001b[?25h  Preparing metadata (setup.py) ... \u001b[?25l\u001b[?25hdone\n",
            "Collecting scikit-learn==0.24.2 (from -r requirements.txt (line 4))\n",
            "  Downloading scikit-learn-0.24.2.tar.gz (7.5 MB)\n",
            "\u001b[2K     \u001b[90m━━━━━━━━━━━━━━━━━━━━━━━━━━━━━━━━━━━━━━━━\u001b[0m \u001b[32m7.5/7.5 MB\u001b[0m \u001b[31m33.1 MB/s\u001b[0m eta \u001b[36m0:00:00\u001b[0m\n",
            "\u001b[?25h  Installing build dependencies ... \u001b[?25l\u001b[?25hdone\n",
            "  Getting requirements to build wheel ... \u001b[?25l\u001b[?25hdone\n",
            "  \u001b[1;31merror\u001b[0m: \u001b[1msubprocess-exited-with-error\u001b[0m\n",
            "  \n",
            "  \u001b[31m×\u001b[0m \u001b[32mPreparing metadata \u001b[0m\u001b[1;32m(\u001b[0m\u001b[32mpyproject.toml\u001b[0m\u001b[1;32m)\u001b[0m did not run successfully.\n",
            "  \u001b[31m│\u001b[0m exit code: \u001b[1;36m1\u001b[0m\n",
            "  \u001b[31m╰─>\u001b[0m See above for output.\n",
            "  \n",
            "  \u001b[1;35mnote\u001b[0m: This error originates from a subprocess, and is likely not a problem with pip.\n",
            "  Preparing metadata (pyproject.toml) ... \u001b[?25l\u001b[?25herror\n",
            "\u001b[1;31merror\u001b[0m: \u001b[1mmetadata-generation-failed\u001b[0m\n",
            "\n",
            "\u001b[31m×\u001b[0m Encountered error while generating package metadata.\n",
            "\u001b[31m╰─>\u001b[0m See above for output.\n",
            "\n",
            "\u001b[1;35mnote\u001b[0m: This is an issue with the package mentioned above, not pip.\n",
            "\u001b[1;36mhint\u001b[0m: See above for details.\n"
          ]
        }
      ]
    },
    {
      "cell_type": "code",
      "source": [
        "# Importing necessary libraries\n",
        "import pandas as pd\n",
        "import seaborn as sns\n",
        "import matplotlib.pyplot as plt\n",
        "from sklearn.model_selection import train_test_split, cross_val_score, StratifiedKFold\n",
        "from sklearn.ensemble import RandomForestClassifier\n",
        "from sklearn.metrics import accuracy_score, precision_score, recall_score, f1_score, confusion_matrix, classification_report\n",
        "from google.colab import drive"
      ],
      "metadata": {
        "id": "oV21lZsGVx3n"
      },
      "execution_count": 9,
      "outputs": []
    },
    {
      "cell_type": "code",
      "source": [
        "# Mount Google Drive\n",
        "drive.mount('/content/drive')"
      ],
      "metadata": {
        "colab": {
          "base_uri": "https://localhost:8080/"
        },
        "id": "YvmnetxvvuGm",
        "outputId": "261327f7-aa2f-4af3-90ce-dba5de34659e"
      },
      "execution_count": 10,
      "outputs": [
        {
          "output_type": "stream",
          "name": "stdout",
          "text": [
            "Drive already mounted at /content/drive; to attempt to forcibly remount, call drive.mount(\"/content/drive\", force_remount=True).\n"
          ]
        }
      ]
    },
    {
      "cell_type": "markdown",
      "source": [
        "In this cell, we are loading the training and test datasets from pickle files. After loading the data, we display the structure of both datasets using the head() function to show the first few rows of each dataset."
      ],
      "metadata": {
        "id": "xbyy9zXMb5Od"
      }
    },
    {
      "cell_type": "code",
      "source": [
        "# Load training data\n",
        "train_data_path = '/content/drive/MyDrive/dataset_b_noisy_7_agents_training.pkl'\n",
        "train_data = pd.read_pickle(train_data_path)\n",
        "\n",
        "# Load test data\n",
        "test_data_path = '/content/drive/MyDrive/dataset_b_noisy_7_agents_test.pkl'\n",
        "test_data = pd.read_pickle(test_data_path)\n",
        "\n",
        "# Display structure of data\n",
        "print(\"Training Data:\")\n",
        "print(train_data.head())\n",
        "\n",
        "print(\"\\nTest Data:\")\n",
        "print(test_data.head())\n"
      ],
      "metadata": {
        "id": "6WLB2Zqjvub1",
        "colab": {
          "base_uri": "https://localhost:8080/"
        },
        "outputId": "593047ee-f1ca-4d72-a8de-2fa3e4d3b3f4"
      },
      "execution_count": 11,
      "outputs": [
        {
          "output_type": "stream",
          "name": "stdout",
          "text": [
            "Training Data:\n",
            "          srcAS  destAS srcCC destCC  num_hops  \\\n",
            "trid                                             \n",
            "1925684   20473    1906    US     US         9   \n",
            "5107809  138062   60015    ID     GB         9   \n",
            "905831    14061   14813    US     BB        10   \n",
            "2678331   16276    4764    FR     AU         8   \n",
            "5064705  138062   25019    ID     SA         2   \n",
            "\n",
            "                                                       lat  \\\n",
            "trid                                                         \n",
            "1925684  [48.860001000000004, 40.714271999999994, 40.71...   \n",
            "5107809  [-6.214620000000001, -6.214620000000001, -6.21...   \n",
            "905831   [50.115520000000004, 50.115520000000004, 50.11...   \n",
            "2678331  [0.0, 0.0, 0.0, 0.0, 1.28967, 1.28967, 1.28967...   \n",
            "5064705                      [-6.214620000000001, 1.28967]   \n",
            "\n",
            "                                                      long  \\\n",
            "trid                                                         \n",
            "1925684  [2.34444, -74.005966, -74.005966, -74.005997, ...   \n",
            "5107809  [106.84513100000001, 106.84513100000001, 106.8...   \n",
            "905831   [8.68417, 8.68417, 8.67185, 8.67185, 2.34444, ...   \n",
            "2678331  [0.0, 0.0, 0.0, 0.0, 103.850098, 103.850098, 1...   \n",
            "5064705           [106.84513100000001, 103.85006700000001]   \n",
            "\n",
            "                               IPsource  \\\n",
            "trid                                      \n",
            "1925684     [1, 1, 1, 1, 1, 1, 1, 2, 2]   \n",
            "5107809     [1, 1, 1, 3, 1, 1, 1, 1, 3]   \n",
            "905831   [2, 1, 1, 1, 1, 1, 1, 3, 3, 3]   \n",
            "2678331        [4, 4, 4, 4, 1, 1, 1, 3]   \n",
            "5064705                          [1, 1]   \n",
            "\n",
            "                                            geoCC  \\\n",
            "trid                                                \n",
            "1925684      [FR, US, US, US, US, US, US, US, US]   \n",
            "5107809      [ID, ID, ID, ID, SG, FR, FR, GB, GB]   \n",
            "905831   [DE, DE, DE, DE, FR, US, US, US, US, US]   \n",
            "2678331      [nan, nan, nan, nan, SG, SG, SG, AU]   \n",
            "5064705                                  [ID, SG]   \n",
            "\n",
            "                                                       ASN  vf  combined  geo  \\\n",
            "trid                                                                            \n",
            "1925684  [3257, 3257, 7018, 7018, 7018, 7018, 7018, 701...   0         0    0   \n",
            "5107809  [136052, 135468, 23947, 23947, 6939, 6939, 693...   0         0    0   \n",
            "905831   [14061, 14061, 1299, 1299, 1299, 1299, 1299, 0...   0         0    0   \n",
            "2678331             [0, 0, 0, 0, 16276, 16276, 4764, 4764]   0         0    0   \n",
            "5064705                                    [136052, 24482]   0         0    0   \n",
            "\n",
            "         owner  \n",
            "trid            \n",
            "1925684      0  \n",
            "5107809      0  \n",
            "905831       0  \n",
            "2678331      0  \n",
            "5064705      0  \n",
            "\n",
            "Test Data:\n",
            "         srcAS  destAS srcCC destCC  num_hops  \\\n",
            "trid                                            \n",
            "1489583  14061   28860    US     RU         5   \n",
            "3948141   8551   60747    IL     RU         7   \n",
            "720512   14061  198498    US     PL         8   \n",
            "4159893   8551   26484    IL     SG        24   \n",
            "2357682  16276   45820    FR     IN        10   \n",
            "\n",
            "                                                       lat  \\\n",
            "trid                                                         \n",
            "1489583  [50.115520000000004, 50.115520000000004, 50.11...   \n",
            "3948141  [32.080878999999996, 32.080878999999996, 32.08...   \n",
            "720512   [51.50852999999999, 51.50852999999999, 51.5084...   \n",
            "4159893  [32.080878999999996, 32.080878999999996, 32.08...   \n",
            "2357682  [0.0, 0.0, 0.0, 0.0, 1.28967, 1.28967, 13.0889...   \n",
            "\n",
            "                                                      long  \\\n",
            "trid                                                         \n",
            "1489583    [8.68417, 8.68417, 8.68417, 8.68417, 44.255798]   \n",
            "3948141  [34.780571, 34.780571, 34.780571, 34.88747, 8....   \n",
            "720512   [-0.12574000000000002, -0.12574000000000002, -...   \n",
            "4159893  [34.780571, 34.780571, 34.88747, 5.38106999999...   \n",
            "2357682  [0.0, 0.0, 0.0, 0.0, 103.850098, 103.850098, 8...   \n",
            "\n",
            "                                                  IPsource  \\\n",
            "trid                                                         \n",
            "1489583                                    [1, 2, 1, 1, 3]   \n",
            "3948141                              [2, 2, 2, 1, 1, 3, 3]   \n",
            "720512                            [1, 1, 1, 1, 1, 1, 1, 3]   \n",
            "4159893  [2, 2, 1, 1, 1, 1, 1, 1, 1, 1, 1, 1, 1, 1, 1, ...   \n",
            "2357682                     [4, 4, 4, 4, 1, 1, 1, 1, 3, 3]   \n",
            "\n",
            "                                                     geoCC  \\\n",
            "trid                                                         \n",
            "1489583                               [DE, DE, DE, DE, RU]   \n",
            "3948141                       [IL, IL, IL, IL, DE, RU, RU]   \n",
            "720512                    [GB, GB, GB, GB, DE, PL, PL, PL]   \n",
            "4159893  [IL, IL, IL, FR, DE, DE, DE, DE, DE, FR, ES, U...   \n",
            "2357682       [nan, nan, nan, nan, SG, SG, IN, IN, IN, IN]   \n",
            "\n",
            "                                                       ASN  vf  combined  geo  \\\n",
            "trid                                                                            \n",
            "1489583                [14061, 14061, 14061, 12389, 12389]   0         0    0   \n",
            "3948141      [8551, 8551, 8551, 8551, 20485, 20485, 20485]   0         0    0   \n",
            "720512   [14061, 14061, 1299, 1299, 1299, 1299, 1299, 6...   0         0    0   \n",
            "4159893  [8551, 8551, 8551, 8551, 8551, 3257, 3257, 174...   2         1    0   \n",
            "2357682  [0, 0, 0, 0, 16276, 16276, 6453, 6453, 4755, 4...   0         0    0   \n",
            "\n",
            "         owner  \n",
            "trid            \n",
            "1489583      0  \n",
            "3948141      0  \n",
            "720512       0  \n",
            "4159893      1  \n",
            "2357682      0  \n"
          ]
        }
      ]
    },
    {
      "cell_type": "markdown",
      "source": [
        "In this cell, we reload the training data for clarity and preprocess it for training a machine learning model. We create a binary target variable, 'malicious_label', by considering the 'owner' column, where 1 indicates a malicious route and 0 indicates a non-malicious route. We then select the numerical features ('num_hops', 'vf', 'combined', 'geo') and split the data into training and validation sets using the train_test_split function. This separation is essential for training and evaluating the model's performance. The random state is set for reproducibility."
      ],
      "metadata": {
        "id": "_Q3_xGcZb8Ql"
      }
    },
    {
      "cell_type": "code",
      "source": [
        "# Load data again for clarity\n",
        "df_train = pd.read_pickle(train_data_path)\n",
        "\n",
        "# Assume 'owner' indicates if a route is malicious (1) or not (0)\n",
        "df_train['malicious_label'] = (df_train['owner'] == 1).astype(int)\n",
        "\n",
        "# Select numerical features\n",
        "numerical_features = ['num_hops', 'vf', 'combined', 'geo']\n",
        "\n",
        "# Select features from DataFrame\n",
        "X_numerical = df_train[numerical_features]\n",
        "\n",
        "# Select target variable\n",
        "y = df_train['malicious_label']\n",
        "\n",
        "# Train-Test split\n",
        "X_train, X_valid, y_train, y_valid = train_test_split(X_numerical, y, test_size=0.2, random_state=42)"
      ],
      "metadata": {
        "id": "gOmXXhlAwZX8"
      },
      "execution_count": 12,
      "outputs": []
    },
    {
      "cell_type": "markdown",
      "source": [
        "\n",
        "In this cell, we initialize a Random Forest model with 100 estimators and a fixed random state for reproducibility. Subsequently, we train the model using the training data (X_train and y_train). The Random Forest algorithm is a popular ensemble learning method that constructs multiple decision trees during training and outputs the mode of the classes (classification) or the average prediction (regression) of the individual trees."
      ],
      "metadata": {
        "id": "UCIL5dfmcKJt"
      }
    },
    {
      "cell_type": "code",
      "source": [
        "# Initialize and train Random Forest model\n",
        "rf_model = RandomForestClassifier(n_estimators=100, random_state=42)\n",
        "rf_model.fit(X_train, y_train)"
      ],
      "metadata": {
        "colab": {
          "base_uri": "https://localhost:8080/",
          "height": 75
        },
        "id": "yqoB1HLDLc4K",
        "outputId": "fb1281b2-a60f-49ac-cae7-595a26565c05"
      },
      "execution_count": 13,
      "outputs": [
        {
          "output_type": "execute_result",
          "data": {
            "text/plain": [
              "RandomForestClassifier(random_state=42)"
            ],
            "text/html": [
              "<style>#sk-container-id-1 {color: black;background-color: white;}#sk-container-id-1 pre{padding: 0;}#sk-container-id-1 div.sk-toggleable {background-color: white;}#sk-container-id-1 label.sk-toggleable__label {cursor: pointer;display: block;width: 100%;margin-bottom: 0;padding: 0.3em;box-sizing: border-box;text-align: center;}#sk-container-id-1 label.sk-toggleable__label-arrow:before {content: \"▸\";float: left;margin-right: 0.25em;color: #696969;}#sk-container-id-1 label.sk-toggleable__label-arrow:hover:before {color: black;}#sk-container-id-1 div.sk-estimator:hover label.sk-toggleable__label-arrow:before {color: black;}#sk-container-id-1 div.sk-toggleable__content {max-height: 0;max-width: 0;overflow: hidden;text-align: left;background-color: #f0f8ff;}#sk-container-id-1 div.sk-toggleable__content pre {margin: 0.2em;color: black;border-radius: 0.25em;background-color: #f0f8ff;}#sk-container-id-1 input.sk-toggleable__control:checked~div.sk-toggleable__content {max-height: 200px;max-width: 100%;overflow: auto;}#sk-container-id-1 input.sk-toggleable__control:checked~label.sk-toggleable__label-arrow:before {content: \"▾\";}#sk-container-id-1 div.sk-estimator input.sk-toggleable__control:checked~label.sk-toggleable__label {background-color: #d4ebff;}#sk-container-id-1 div.sk-label input.sk-toggleable__control:checked~label.sk-toggleable__label {background-color: #d4ebff;}#sk-container-id-1 input.sk-hidden--visually {border: 0;clip: rect(1px 1px 1px 1px);clip: rect(1px, 1px, 1px, 1px);height: 1px;margin: -1px;overflow: hidden;padding: 0;position: absolute;width: 1px;}#sk-container-id-1 div.sk-estimator {font-family: monospace;background-color: #f0f8ff;border: 1px dotted black;border-radius: 0.25em;box-sizing: border-box;margin-bottom: 0.5em;}#sk-container-id-1 div.sk-estimator:hover {background-color: #d4ebff;}#sk-container-id-1 div.sk-parallel-item::after {content: \"\";width: 100%;border-bottom: 1px solid gray;flex-grow: 1;}#sk-container-id-1 div.sk-label:hover label.sk-toggleable__label {background-color: #d4ebff;}#sk-container-id-1 div.sk-serial::before {content: \"\";position: absolute;border-left: 1px solid gray;box-sizing: border-box;top: 0;bottom: 0;left: 50%;z-index: 0;}#sk-container-id-1 div.sk-serial {display: flex;flex-direction: column;align-items: center;background-color: white;padding-right: 0.2em;padding-left: 0.2em;position: relative;}#sk-container-id-1 div.sk-item {position: relative;z-index: 1;}#sk-container-id-1 div.sk-parallel {display: flex;align-items: stretch;justify-content: center;background-color: white;position: relative;}#sk-container-id-1 div.sk-item::before, #sk-container-id-1 div.sk-parallel-item::before {content: \"\";position: absolute;border-left: 1px solid gray;box-sizing: border-box;top: 0;bottom: 0;left: 50%;z-index: -1;}#sk-container-id-1 div.sk-parallel-item {display: flex;flex-direction: column;z-index: 1;position: relative;background-color: white;}#sk-container-id-1 div.sk-parallel-item:first-child::after {align-self: flex-end;width: 50%;}#sk-container-id-1 div.sk-parallel-item:last-child::after {align-self: flex-start;width: 50%;}#sk-container-id-1 div.sk-parallel-item:only-child::after {width: 0;}#sk-container-id-1 div.sk-dashed-wrapped {border: 1px dashed gray;margin: 0 0.4em 0.5em 0.4em;box-sizing: border-box;padding-bottom: 0.4em;background-color: white;}#sk-container-id-1 div.sk-label label {font-family: monospace;font-weight: bold;display: inline-block;line-height: 1.2em;}#sk-container-id-1 div.sk-label-container {text-align: center;}#sk-container-id-1 div.sk-container {/* jupyter's `normalize.less` sets `[hidden] { display: none; }` but bootstrap.min.css set `[hidden] { display: none !important; }` so we also need the `!important` here to be able to override the default hidden behavior on the sphinx rendered scikit-learn.org. See: https://github.com/scikit-learn/scikit-learn/issues/21755 */display: inline-block !important;position: relative;}#sk-container-id-1 div.sk-text-repr-fallback {display: none;}</style><div id=\"sk-container-id-1\" class=\"sk-top-container\"><div class=\"sk-text-repr-fallback\"><pre>RandomForestClassifier(random_state=42)</pre><b>In a Jupyter environment, please rerun this cell to show the HTML representation or trust the notebook. <br />On GitHub, the HTML representation is unable to render, please try loading this page with nbviewer.org.</b></div><div class=\"sk-container\" hidden><div class=\"sk-item\"><div class=\"sk-estimator sk-toggleable\"><input class=\"sk-toggleable__control sk-hidden--visually\" id=\"sk-estimator-id-1\" type=\"checkbox\" checked><label for=\"sk-estimator-id-1\" class=\"sk-toggleable__label sk-toggleable__label-arrow\">RandomForestClassifier</label><div class=\"sk-toggleable__content\"><pre>RandomForestClassifier(random_state=42)</pre></div></div></div></div></div>"
            ]
          },
          "metadata": {},
          "execution_count": 13
        }
      ]
    },
    {
      "cell_type": "markdown",
      "source": [
        "In this section, we use the trained Random Forest model to make predictions on the validation data (X_valid). Subsequently, we evaluate the model's performance by calculating the accuracy, which is the ratio of correctly predicted instances to the total number of instances in the validation set. The accuracy score is printed for assessment."
      ],
      "metadata": {
        "id": "30RPwZ2RcUDc"
      }
    },
    {
      "cell_type": "code",
      "source": [
        "# Predictions on validation data\n",
        "y_pred = rf_model.predict(X_valid)\n",
        "\n",
        "# Evaluate model performance\n",
        "accuracy = accuracy_score(y_valid, y_pred)\n",
        "print(\"Accuracy:\", accuracy)"
      ],
      "metadata": {
        "id": "tDlRPIb_wZal",
        "colab": {
          "base_uri": "https://localhost:8080/"
        },
        "outputId": "0862f57c-95a5-4961-b814-bbe08087bff5"
      },
      "execution_count": 14,
      "outputs": [
        {
          "output_type": "stream",
          "name": "stdout",
          "text": [
            "Accuracy: 0.9970600827743685\n"
          ]
        }
      ]
    },
    {
      "cell_type": "markdown",
      "source": [
        "In this cell, we select the relevant features from the test data (X_test) that match the features used during the model training. The trained Random Forest model is then utilized to predict the labels on the test data. These predictions are added to the test data, and the resulting structure is displayed. Additionally, the test data with predictions is saved to a CSV file for further reference."
      ],
      "metadata": {
        "id": "UiAS1A-ocXjm"
      }
    },
    {
      "cell_type": "code",
      "source": [
        "# Features from test data (matching the features used during training)\n",
        "X_test = test_data[['num_hops', 'vf', 'combined', 'geo']]\n",
        "\n",
        "# Predictions on test data\n",
        "y_test_pred = rf_model.predict(X_test)\n",
        "\n",
        "# Add predictions to test data\n",
        "test_data['predictions'] = y_test_pred\n",
        "\n",
        "# Display the structure of test data with predictions\n",
        "print(\"Test Data with Predictions:\")\n",
        "print(test_data[['num_hops', 'vf', 'combined', 'geo', 'owner', 'predictions']])\n",
        "\n",
        "# Save test data with predictions to a CSV file\n",
        "test_data.to_csv('/content/drive/MyDrive/test_predictions.csv', index=False)\n"
      ],
      "metadata": {
        "id": "MAImsEczwZdK",
        "colab": {
          "base_uri": "https://localhost:8080/"
        },
        "outputId": "84754fd3-63ec-42f2-cbc4-68a27960212a"
      },
      "execution_count": 15,
      "outputs": [
        {
          "output_type": "stream",
          "name": "stdout",
          "text": [
            "Test Data with Predictions:\n",
            "         num_hops  vf  combined  geo  owner  predictions\n",
            "trid                                                    \n",
            "1489583         5   0         0    0      0            0\n",
            "3948141         7   0         0    0      0            0\n",
            "720512          8   0         0    0      0            0\n",
            "4159893        24   2         1    0      1            1\n",
            "2357682        10   0         0    0      0            0\n",
            "...           ...  ..       ...  ...    ...          ...\n",
            "42641          13   0         0    0      0            0\n",
            "133464          7   0         0    0      0            0\n",
            "1427067        17   0         1    1      0            0\n",
            "2251553         7   0         0    0      0            0\n",
            "184698          9   0         0    0      0            0\n",
            "\n",
            "[70238 rows x 6 columns]\n"
          ]
        }
      ]
    },
    {
      "cell_type": "markdown",
      "source": [
        "\n",
        "In this section, we perform cross-validation using StratifiedKFold, which is suitable for classification tasks with imbalanced class ratios. Additional metrics, including precision, recall, and F1-score, are computed during cross-validation. Furthermore, the confusion matrices are created for each fold, and their averages are calculated. The final results, including average precision, recall, F1-score, and the average confusion matrix, are printed."
      ],
      "metadata": {
        "id": "47eCRNPechzv"
      }
    },
    {
      "cell_type": "code",
      "source": [
        "# Cross-validation with StratifiedKFold (supports classification with imbalanced class ratios)\n",
        "cv = StratifiedKFold(n_splits=5, shuffle=True, random_state=42)\n",
        "\n",
        "# Additional metrics during cross-validation\n",
        "precision_scores = cross_val_score(rf_model, X_numerical, y, cv=cv, scoring='precision')\n",
        "recall_scores = cross_val_score(rf_model, X_numerical, y, cv=cv, scoring='recall')\n",
        "f1_scores = cross_val_score(rf_model, X_numerical, y, cv=cv, scoring='f1')\n",
        "\n",
        "# Confusion Matrix creation during cross-validation\n",
        "conf_matrices = []\n",
        "for train_index, test_index in cv.split(X_numerical, y):\n",
        "    X_train_cv, X_test_cv = X_numerical.iloc[train_index], X_numerical.iloc[test_index]\n",
        "    y_train_cv, y_test_cv = y.iloc[train_index], y.iloc[test_index]\n",
        "\n",
        "    rf_model.fit(X_train_cv, y_train_cv)\n",
        "    y_pred_cv = rf_model.predict(X_test_cv)\n",
        "\n",
        "    conf_matrices.append(confusion_matrix(y_test_cv, y_pred_cv))\n",
        "\n",
        "# Calculate average values for the metrics\n",
        "avg_precision = precision_scores.mean()\n",
        "avg_recall = recall_scores.mean()\n",
        "avg_f1 = f1_scores.mean()\n",
        "\n",
        "# Calculate average Confusion Matrix\n",
        "avg_conf_matrix = sum(conf_matrices) // len(conf_matrices)\n",
        "\n",
        "# Output the results\n",
        "print(\"Average Precision:\", avg_precision)\n",
        "print(\"Average Recall:\", avg_recall)\n",
        "print(\"Average F1-Score:\", avg_f1)\n",
        "print(\"\\nAverage Confusion Matrix:\")\n",
        "print(avg_conf_matrix)\n"
      ],
      "metadata": {
        "id": "OSQucA6Qpu-r",
        "colab": {
          "base_uri": "https://localhost:8080/"
        },
        "outputId": "05e1beb7-0a4d-48ea-e145-fd40b8ed268e"
      },
      "execution_count": 16,
      "outputs": [
        {
          "output_type": "stream",
          "name": "stdout",
          "text": [
            "Average Precision: 0.951716904087494\n",
            "Average Recall: 0.611023622047244\n",
            "Average F1-Score: 0.7437025113134438\n",
            "\n",
            "Average Confusion Matrix:\n",
            "[[34773     7]\n",
            " [   98   155]]\n"
          ]
        }
      ]
    },
    {
      "cell_type": "markdown",
      "source": [
        "In this part, we select the relevant features from the test data, which match the features used during the training phase. We then use the trained Random Forest model to make predictions on the test data. These predictions are added to the test data for further analysis. Additionally, we create a binary 'malicious_label' column based on the assumption that 'owner' indicates whether a route is marked as malicious (1) or not (0). The resulting 'y_test' variable holds the true labels for the test data."
      ],
      "metadata": {
        "id": "xJfoe6DrcloC"
      }
    },
    {
      "cell_type": "code",
      "source": [
        "# Select features from the test data (corresponding to the features used during training)\n",
        "X_test = test_data[['num_hops', 'vf', 'combined', 'geo']]\n",
        "\n",
        "# Make predictions on the test data\n",
        "y_test_pred = rf_model.predict(X_test)\n",
        "\n",
        "# Add predictions to the test data\n",
        "test_data['predictions'] = y_test_pred\n",
        "\n",
        "# Assume: 'owner' is a column indicating whether a route is marked as malicious (1) or not (0).\n",
        "test_data['malicious_label'] = (test_data['owner'] == 1).astype(int)\n",
        "y_test = test_data['malicious_label']\n"
      ],
      "metadata": {
        "id": "m_zZkJQLYAOH"
      },
      "execution_count": 17,
      "outputs": []
    },
    {
      "cell_type": "markdown",
      "source": [
        "In this section, we compute the confusion matrix based on the true labels (y_test) and the predicted labels (y_test_pred). The confusion matrix is then visualized using a heatmap for better interpretation. Additionally, we output the classification report, which includes precision, recall, F1-score, and other metrics, providing a comprehensive assessment of the model's performance on the test data."
      ],
      "metadata": {
        "id": "3hkc2aoicvlV"
      }
    },
    {
      "cell_type": "code",
      "source": [
        "# Calculate the Confusion Matrix\n",
        "conf_matrix = confusion_matrix(y_test, y_test_pred)\n",
        "\n",
        "# Visualize the Confusion Matrix\n",
        "plt.figure(figsize=(8, 6))\n",
        "sns.heatmap(conf_matrix, annot=True, fmt=\"d\", cmap=\"Blues\", cbar=False)\n",
        "plt.title(\"Confusion Matrix\")\n",
        "plt.xlabel(\"Predicted Label\")\n",
        "plt.ylabel(\"True Label\")\n",
        "plt.show()\n",
        "\n",
        "# Output the Classification Report\n",
        "class_report = classification_report(y_test, y_test_pred)\n",
        "print(\"Classification Report:\\n\", class_report)\n"
      ],
      "metadata": {
        "id": "5rFyGhSWpvAc",
        "colab": {
          "base_uri": "https://localhost:8080/",
          "height": 694
        },
        "outputId": "486b159a-4617-416c-df85-7bcb1cb6d17a"
      },
      "execution_count": 18,
      "outputs": [
        {
          "output_type": "display_data",
          "data": {
            "text/plain": [
              "<Figure size 800x600 with 1 Axes>"
            ],
            "image/png": "[encoded data removed]"
          },
          "metadata": {}
        },
        {
          "output_type": "stream",
          "name": "stdout",
          "text": [
            "Classification Report:\n",
            "               precision    recall  f1-score   support\n",
            "\n",
            "           0       1.00      1.00      1.00     69721\n",
            "           1       0.92      0.59      0.72       517\n",
            "\n",
            "    accuracy                           1.00     70238\n",
            "   macro avg       0.96      0.79      0.86     70238\n",
            "weighted avg       1.00      1.00      1.00     70238\n",
            "\n"
          ]
        }
      ]
    },
    {
      "cell_type": "code",
      "source": [],
      "metadata": {
        "id": "cYR5TcdQhpxi"
      },
      "execution_count": null,
      "outputs": []
    }
  ]
}